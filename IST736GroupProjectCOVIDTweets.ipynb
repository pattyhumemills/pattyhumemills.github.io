{
  "nbformat": 4,
  "nbformat_minor": 0,
  "metadata": {
    "colab": {
      "name": "GetTweetsIST736GroupProject.ipynb",
      "provenance": [],
      "authorship_tag": "ABX9TyPl3zhWnXcDmcFEtvhRKvTB",
      "include_colab_link": true
    },
    "kernelspec": {
      "name": "python3",
      "display_name": "Python 3"
    }
  },
  "cells": [
    {
      "cell_type": "markdown",
      "metadata": {
        "id": "view-in-github",
        "colab_type": "text"
      },
      "source": [
        "<a href=\"https://colab.research.google.com/github/pattyhumemills/pattyhumemills.github.io/blob/master/IST736GroupProjectCOVIDTweets.ipynb\" target=\"_parent\"><img src=\"https://colab.research.google.com/assets/colab-badge.svg\" alt=\"Open In Colab\"/></a>"
      ]
    },
    {
      "cell_type": "code",
      "metadata": {
        "id": "yygSdqhH6wHN"
      },
      "source": [
        "import tweepy\n",
        "#conda install -c conda-forge tweepy\n",
        "from tweepy import OAuthHandler\n",
        "import json\n",
        "from tweepy import Stream\n",
        "from tweepy.streaming import StreamListener\n",
        "import sys\n",
        "from pprint import pprint\n",
        "import json"
      ],
      "execution_count": null,
      "outputs": []
    },
    {
      "cell_type": "code",
      "metadata": {
        "id": "aAU5XUk967G5"
      },
      "source": [
        "## Create all the keys and secrets that you get\n",
        "## from using the Twitter API-------------------------------------\n",
        "## Patty's Keys, please don't use\n",
        "## API keys\n",
        "consumer_key = 'sjIQi15RfmZtFNQykgcWhLp1b'\n",
        "consumer_secret = 'LqED8dBrCkftBQzUQqdREH0CznRwCK6ldxKRkb01oYKmsfOI08'\n",
        "## Keys to log into your account\n",
        "access_token = '15634701-jSPKynYWAqxTb8Gerzt5fQZSJ1BnqAM6oRlmU3W1Q'\n",
        "access_secret = 'OKA4NmoPVC9zTousyP67rw7xdbojSUuxv99CIA65tIX88'\n",
        " \n",
        "auth = OAuthHandler(consumer_key, consumer_secret)\n",
        "auth.set_access_token(access_token, access_secret)\n",
        " \n",
        "api = tweepy.API(auth)"
      ],
      "execution_count": null,
      "outputs": []
    },
    {
      "cell_type": "code",
      "metadata": {
        "id": "ayCfd5g469Rm"
      },
      "source": [
        "##-----------------------------------------------------------------\n",
        "#Other Tweepy options - FYI\n",
        "#for status in tweepy.Cursor(api.home_timeline).items(10):\n",
        "#Process a single status\n",
        " #   print(status.text) \n",
        "#   \n",
        "#def Gather(tweet):\n",
        " #   print(json.dumps(tweet))\n",
        "#for friend in tweepy.Cursor(api.friends).items():\n",
        " #   Gather(friend._json)\n",
        "#--------------------------------------------------------------\n",
        " \n",
        "class Listener(StreamListener):\n",
        "    print(\"In Listener...\") \n",
        "    tweet_number=0\n",
        "    #__init__ runs as soon as an instance of the class is created\n",
        "    def __init__(self, max_tweets, hfilename, rawfile):\n",
        "        self.max_tweets=max_tweets\n",
        "        print(self.max_tweets)     \n",
        "    #on_data() is a function of StreamListener as is on_error and on_status    \n",
        "    def on_data(self, data):\n",
        "        self.tweet_number+=1 \n",
        "        print(\"In on_data\", self.tweet_number)\n",
        "        try:\n",
        "            print(\"In on_data in try\")\n",
        "            with open(hfilename, 'a') as f:\n",
        "                with open(rawfile, 'a') as g:\n",
        "                    tweet=json.loads(data)\n",
        "                    tweet_text=tweet[\"text\"]\n",
        "                    print(tweet_text,\"\\n\")\n",
        "                    f.write(tweet_text) # the text from the tweet\n",
        "                    json.dump(tweet, g)  #write the raw tweet\n",
        "        except BaseException:\n",
        "            print(\"NOPE\")\n",
        "            pass\n",
        "        if self.tweet_number>=self.max_tweets:\n",
        "            #sys.exit('Limit of '+str(self.max_tweets)+' tweets reached.')\n",
        "            print(\"Got \", str(self.max_tweets), \"tweets.\")\n",
        "            return False\n",
        "    #method for on_error()\n",
        "    def on_error(self, status):\n",
        "        print(\"ERROR\")\n",
        "        if(status==420):\n",
        "            print(\"Error \", status, \"rate limited\")\n",
        "            return False\n",
        "#----------------end of class Listener\n",
        "# Changes from how Dr. Gates did it:\n",
        "# 1) I used keywords where she had hashtags.\n",
        "# 2) I output as a csv rather than text. I tried it both ways. CSV was easier for me to understand.         \n",
        "keywords='coronavirus'\n",
        "numtweets=eval(input(\"How many tweets do you want to get?: \"))\n",
        "\n",
        "#Create a file for any hash name    \n",
        "hfilename=\"file_corona.csv\"\n",
        "rawfile=\"file_rawtweets_corona.csv\"\n",
        "twitter_stream = Stream(auth, Listener(numtweets, hfilename, rawfile))\n",
        "#twitter_stream.filter(track=['#womensrights'])\n",
        "twitter_stream.filter(track=[keywords]) #q='your_search -filter:retweets'\n",
        "twitter_stream\n",
        "print(\"Twitter files created....\")\n",
        "\n",
        "#-----------------------------------"
      ],
      "execution_count": null,
      "outputs": []
    }
  ]
}